{
 "cells": [
  {
   "cell_type": "code",
   "execution_count": 1,
   "metadata": {
    "_cell_guid": "b1076dfc-b9ad-4769-8c92-a6c4dae69d19",
    "_uuid": "8f2839f25d086af736a60e9eeb907d3b93b6e0e5"
   },
   "outputs": [
    {
     "name": "stderr",
     "output_type": "stream",
     "text": [
      "Using TensorFlow backend.\n"
     ]
    }
   ],
   "source": [
    "import numpy as np \n",
    "import pandas as pd\n",
    "import os \n",
    "import librosa \n",
    "import wave\n",
    "import matplotlib.pyplot as plt \n",
    "\n",
    "from sklearn.model_selection import train_test_split\n",
    "from sklearn.neural_network import MLPClassifier\n",
    "from sklearn.metrics import accuracy_score\n",
    "\n",
    "import keras\n",
    "from keras.utils import to_categorical\n",
    "from keras.models import Sequential\n",
    "from keras.layers import *\n",
    "from keras.optimizers import rmsprop"
   ]
  },
  {
   "cell_type": "code",
   "execution_count": 2,
   "metadata": {},
   "outputs": [],
   "source": [
    "def extract_mfcc(wav_file_name):\n",
    "    y, sr = librosa.load(wav_file_name,duration=3\n",
    "                                  ,offset=0.5)\n",
    "    mfccs = np.mean(librosa.feature.mfcc(y=y, sr=sr, n_mfcc=40).T,axis=0)\n",
    "    \n",
    "    return mfccs"
   ]
  },
  {
   "cell_type": "code",
   "execution_count": 3,
   "metadata": {},
   "outputs": [
    {
     "name": "stdout",
     "output_type": "stream",
     "text": [
      "Finish Loading the Dataset\n"
     ]
    }
   ],
   "source": [
    "radvess_speech_labels = []\n",
    "ravdess_speech_data = []\n",
    "for dirname, _, filenames in os.walk('/kaggle/input/ravdess-emotional-speech-audio/'):\n",
    "    for filename in filenames:\n",
    "        \n",
    "        radvess_speech_labels.append(int(filename[7:8]) - 1) \n",
    "        wav_file_name = os.path.join(dirname, filename)\n",
    "        ravdess_speech_data.append(extract_mfcc(wav_file_name)) \n",
    "        \n",
    "print(\"Finish Loading the Dataset\")"
   ]
  },
  {
   "cell_type": "code",
   "execution_count": 4,
   "metadata": {},
   "outputs": [
    {
     "data": {
      "text/plain": [
       "(2880, 8)"
      ]
     },
     "execution_count": 4,
     "metadata": {},
     "output_type": "execute_result"
    }
   ],
   "source": [
    "ravdess_speech_data_array = np.asarray(ravdess_speech_data) \n",
    "ravdess_speech_label_array = np.array(radvess_speech_labels)\n",
    "ravdess_speech_label_array.shape\n",
    "\n",
    "labels_categorical = to_categorical(ravdess_speech_label_array) # converts a class vector (integers) to binary class matrix\n",
    "labels_categorical.shape"
   ]
  },
  {
   "cell_type": "code",
   "execution_count": 5,
   "metadata": {},
   "outputs": [
    {
     "data": {
      "text/plain": [
       "(2880, 40)"
      ]
     },
     "execution_count": 5,
     "metadata": {},
     "output_type": "execute_result"
    }
   ],
   "source": [
    "ravdess_speech_data_array.shape"
   ]
  },
  {
   "cell_type": "code",
   "execution_count": 6,
   "metadata": {},
   "outputs": [],
   "source": [
    "x_train,x_test,y_train,y_test= train_test_split(np.array(ravdess_speech_data_array),labels_categorical, test_size=0.20, random_state=9)"
   ]
  },
  {
   "cell_type": "code",
   "execution_count": 7,
   "metadata": {},
   "outputs": [],
   "source": [
    "# Split the training, validating, and testing sets\n",
    "number_of_samples = ravdess_speech_data_array.shape[0]\n",
    "training_samples = int(number_of_samples * 0.8)\n",
    "validation_samples = int(number_of_samples * 0.1)\n",
    "test_samples = int(number_of_samples * 0.1)"
   ]
  },
  {
   "cell_type": "code",
   "execution_count": 8,
   "metadata": {},
   "outputs": [],
   "source": [
    "# Define the LSTM model\n",
    "def create_model_LSTM():\n",
    "    model = Sequential()\n",
    "    model.add(LSTM(128, return_sequences=False, input_shape=(40, 1)))\n",
    "    model.add(Dense(64))\n",
    "    model.add(Dropout(0.4))\n",
    "    model.add(Activation('relu'))\n",
    "    model.add(Dense(32))\n",
    "    model.add(Dropout(0.4))\n",
    "    model.add(Activation('relu'))\n",
    "    model.add(Dense(8))\n",
    "    model.add(Activation('softmax'))\n",
    "    \n",
    "    # Configures the model for training\n",
    "    model.compile(loss='categorical_crossentropy', optimizer='Adam', metrics=['accuracy'])\n",
    "    return model"
   ]
  },
  {
   "cell_type": "code",
   "execution_count": 9,
   "metadata": {},
   "outputs": [],
   "source": [
    "w = np.expand_dims(ravdess_speech_data_array[:training_samples],-1)"
   ]
  },
  {
   "cell_type": "code",
   "execution_count": 10,
   "metadata": {},
   "outputs": [
    {
     "data": {
      "text/plain": [
       "(2304, 40, 1)"
      ]
     },
     "execution_count": 10,
     "metadata": {},
     "output_type": "execute_result"
    }
   ],
   "source": [
    "w.shape"
   ]
  },
  {
   "cell_type": "code",
   "execution_count": 11,
   "metadata": {},
   "outputs": [
    {
     "name": "stdout",
     "output_type": "stream",
     "text": [
      "Train on 2304 samples, validate on 288 samples\n",
      "Epoch 1/100\n",
      "2304/2304 [==============================] - 5s 2ms/step - loss: 2.0641 - accuracy: 0.1593 - val_loss: 2.0541 - val_accuracy: 0.1632\n",
      "Epoch 2/100\n",
      "2304/2304 [==============================] - 3s 1ms/step - loss: 2.0113 - accuracy: 0.2057 - val_loss: 1.9509 - val_accuracy: 0.1771\n",
      "Epoch 3/100\n",
      "2304/2304 [==============================] - 3s 1ms/step - loss: 1.9543 - accuracy: 0.2279 - val_loss: 1.9013 - val_accuracy: 0.2639\n",
      "Epoch 4/100\n",
      "2304/2304 [==============================] - 3s 1ms/step - loss: 1.9170 - accuracy: 0.2504 - val_loss: 1.8742 - val_accuracy: 0.2500\n",
      "Epoch 5/100\n",
      "2304/2304 [==============================] - 3s 1ms/step - loss: 1.8945 - accuracy: 0.2591 - val_loss: 1.8825 - val_accuracy: 0.2083\n",
      "Epoch 6/100\n",
      "2304/2304 [==============================] - 3s 1ms/step - loss: 1.8491 - accuracy: 0.2804 - val_loss: 1.8158 - val_accuracy: 0.2812\n",
      "Epoch 7/100\n",
      "2304/2304 [==============================] - 3s 1ms/step - loss: 1.8204 - accuracy: 0.3064 - val_loss: 1.8300 - val_accuracy: 0.2569\n",
      "Epoch 8/100\n",
      "2304/2304 [==============================] - 3s 1ms/step - loss: 1.8284 - accuracy: 0.2986 - val_loss: 1.8122 - val_accuracy: 0.2847\n",
      "Epoch 9/100\n",
      "2304/2304 [==============================] - 3s 1ms/step - loss: 1.8158 - accuracy: 0.3129 - val_loss: 1.8087 - val_accuracy: 0.2847\n",
      "Epoch 10/100\n",
      "2304/2304 [==============================] - 3s 1ms/step - loss: 1.7800 - accuracy: 0.3273 - val_loss: 1.7727 - val_accuracy: 0.3194\n",
      "Epoch 11/100\n",
      "2304/2304 [==============================] - 3s 1ms/step - loss: 1.7679 - accuracy: 0.3129 - val_loss: 1.7397 - val_accuracy: 0.3229\n",
      "Epoch 12/100\n",
      "2304/2304 [==============================] - 3s 1ms/step - loss: 1.7436 - accuracy: 0.3273 - val_loss: 1.7218 - val_accuracy: 0.3229\n",
      "Epoch 13/100\n",
      "2304/2304 [==============================] - 3s 1ms/step - loss: 1.7365 - accuracy: 0.3390 - val_loss: 1.7381 - val_accuracy: 0.3229\n",
      "Epoch 14/100\n",
      "2304/2304 [==============================] - 3s 1ms/step - loss: 1.7019 - accuracy: 0.3485 - val_loss: 1.7568 - val_accuracy: 0.3021\n",
      "Epoch 15/100\n",
      "2304/2304 [==============================] - 3s 1ms/step - loss: 1.6953 - accuracy: 0.3585 - val_loss: 1.6436 - val_accuracy: 0.3819\n",
      "Epoch 16/100\n",
      "2304/2304 [==============================] - 3s 1ms/step - loss: 1.6604 - accuracy: 0.3633 - val_loss: 1.6691 - val_accuracy: 0.3715\n",
      "Epoch 17/100\n",
      "2304/2304 [==============================] - 3s 1ms/step - loss: 1.6592 - accuracy: 0.3863 - val_loss: 1.6114 - val_accuracy: 0.3785\n",
      "Epoch 18/100\n",
      "2304/2304 [==============================] - 3s 1ms/step - loss: 1.6411 - accuracy: 0.3785 - val_loss: 1.6660 - val_accuracy: 0.3368\n",
      "Epoch 19/100\n",
      "2304/2304 [==============================] - 3s 1ms/step - loss: 1.6214 - accuracy: 0.3776 - val_loss: 1.6155 - val_accuracy: 0.3646\n",
      "Epoch 20/100\n",
      "2304/2304 [==============================] - 3s 1ms/step - loss: 1.6104 - accuracy: 0.4049 - val_loss: 1.5636 - val_accuracy: 0.4236\n",
      "Epoch 21/100\n",
      "2304/2304 [==============================] - 3s 1ms/step - loss: 1.5638 - accuracy: 0.4010 - val_loss: 1.5797 - val_accuracy: 0.3507\n",
      "Epoch 22/100\n",
      "2304/2304 [==============================] - 3s 1ms/step - loss: 1.5275 - accuracy: 0.4297 - val_loss: 1.5357 - val_accuracy: 0.4271\n",
      "Epoch 23/100\n",
      "2304/2304 [==============================] - 3s 1ms/step - loss: 1.5235 - accuracy: 0.4288 - val_loss: 1.5229 - val_accuracy: 0.4201\n",
      "Epoch 24/100\n",
      "2304/2304 [==============================] - 3s 1ms/step - loss: 1.4906 - accuracy: 0.4323 - val_loss: 1.4987 - val_accuracy: 0.3889\n",
      "Epoch 25/100\n",
      "2304/2304 [==============================] - 3s 1ms/step - loss: 1.4649 - accuracy: 0.4488 - val_loss: 1.4899 - val_accuracy: 0.4097\n",
      "Epoch 26/100\n",
      "2304/2304 [==============================] - 3s 1ms/step - loss: 1.5230 - accuracy: 0.4336 - val_loss: 1.4353 - val_accuracy: 0.4375\n",
      "Epoch 27/100\n",
      "2304/2304 [==============================] - 3s 1ms/step - loss: 1.4500 - accuracy: 0.4466 - val_loss: 1.5457 - val_accuracy: 0.3889\n",
      "Epoch 28/100\n",
      "2304/2304 [==============================] - 3s 1ms/step - loss: 1.4219 - accuracy: 0.4640 - val_loss: 1.4195 - val_accuracy: 0.4306\n",
      "Epoch 29/100\n",
      "2304/2304 [==============================] - 3s 1ms/step - loss: 1.3626 - accuracy: 0.4852 - val_loss: 1.3591 - val_accuracy: 0.4653\n",
      "Epoch 30/100\n",
      "2304/2304 [==============================] - 3s 1ms/step - loss: 1.3611 - accuracy: 0.4787 - val_loss: 1.3722 - val_accuracy: 0.4375\n",
      "Epoch 31/100\n",
      "2304/2304 [==============================] - 3s 1ms/step - loss: 1.3179 - accuracy: 0.4935 - val_loss: 1.4389 - val_accuracy: 0.4167\n",
      "Epoch 32/100\n",
      "2304/2304 [==============================] - 3s 1ms/step - loss: 1.3339 - accuracy: 0.4996 - val_loss: 1.3236 - val_accuracy: 0.5000\n",
      "Epoch 33/100\n",
      "2304/2304 [==============================] - 3s 1ms/step - loss: 1.3261 - accuracy: 0.5026 - val_loss: 1.2744 - val_accuracy: 0.5278\n",
      "Epoch 34/100\n",
      "2304/2304 [==============================] - 3s 1ms/step - loss: 1.2598 - accuracy: 0.5273 - val_loss: 1.3626 - val_accuracy: 0.4653\n",
      "Epoch 35/100\n",
      "2304/2304 [==============================] - 3s 1ms/step - loss: 1.2676 - accuracy: 0.5165 - val_loss: 1.2650 - val_accuracy: 0.5139\n",
      "Epoch 36/100\n",
      "2304/2304 [==============================] - 3s 1ms/step - loss: 1.1951 - accuracy: 0.5291 - val_loss: 1.2951 - val_accuracy: 0.4618\n",
      "Epoch 37/100\n",
      "2304/2304 [==============================] - 3s 1ms/step - loss: 1.1942 - accuracy: 0.5551 - val_loss: 1.2450 - val_accuracy: 0.5382\n",
      "Epoch 38/100\n",
      "2304/2304 [==============================] - 3s 1ms/step - loss: 1.1899 - accuracy: 0.5538 - val_loss: 1.2003 - val_accuracy: 0.5174\n",
      "Epoch 39/100\n",
      "2304/2304 [==============================] - 3s 1ms/step - loss: 1.1628 - accuracy: 0.5595 - val_loss: 1.1819 - val_accuracy: 0.4965\n",
      "Epoch 40/100\n",
      "2304/2304 [==============================] - 3s 1ms/step - loss: 1.1215 - accuracy: 0.5838 - val_loss: 1.2013 - val_accuracy: 0.5417\n",
      "Epoch 41/100\n",
      "2304/2304 [==============================] - 3s 1ms/step - loss: 1.0891 - accuracy: 0.6024 - val_loss: 1.1027 - val_accuracy: 0.5868\n",
      "Epoch 42/100\n",
      "2304/2304 [==============================] - 3s 1ms/step - loss: 1.0754 - accuracy: 0.5890 - val_loss: 1.2135 - val_accuracy: 0.5451\n",
      "Epoch 43/100\n",
      "2304/2304 [==============================] - 3s 1ms/step - loss: 1.0692 - accuracy: 0.5920 - val_loss: 1.1949 - val_accuracy: 0.5243\n",
      "Epoch 44/100\n",
      "2304/2304 [==============================] - 3s 1ms/step - loss: 1.0745 - accuracy: 0.6029 - val_loss: 1.0144 - val_accuracy: 0.6076\n",
      "Epoch 45/100\n",
      "2304/2304 [==============================] - 3s 1ms/step - loss: 0.9761 - accuracy: 0.6385 - val_loss: 1.0259 - val_accuracy: 0.5833\n",
      "Epoch 46/100\n",
      "2304/2304 [==============================] - 3s 1ms/step - loss: 1.0000 - accuracy: 0.6259 - val_loss: 1.0650 - val_accuracy: 0.5694\n",
      "Epoch 47/100\n",
      "2304/2304 [==============================] - 3s 1ms/step - loss: 1.0136 - accuracy: 0.6254 - val_loss: 1.0393 - val_accuracy: 0.6111\n",
      "Epoch 48/100\n",
      "2304/2304 [==============================] - 3s 1ms/step - loss: 0.9260 - accuracy: 0.6602 - val_loss: 0.9920 - val_accuracy: 0.6076\n",
      "Epoch 49/100\n",
      "2304/2304 [==============================] - 3s 1ms/step - loss: 0.9012 - accuracy: 0.6593 - val_loss: 0.8778 - val_accuracy: 0.6424\n",
      "Epoch 50/100\n",
      "2304/2304 [==============================] - 3s 1ms/step - loss: 0.8999 - accuracy: 0.6701 - val_loss: 1.0042 - val_accuracy: 0.5972\n",
      "Epoch 51/100\n",
      "2304/2304 [==============================] - 3s 1ms/step - loss: 0.9022 - accuracy: 0.6597 - val_loss: 0.9127 - val_accuracy: 0.6701\n",
      "Epoch 52/100\n",
      "2304/2304 [==============================] - 3s 1ms/step - loss: 0.8177 - accuracy: 0.6892 - val_loss: 0.8489 - val_accuracy: 0.6562\n",
      "Epoch 53/100\n",
      "2304/2304 [==============================] - 3s 1ms/step - loss: 0.7668 - accuracy: 0.7053 - val_loss: 0.9329 - val_accuracy: 0.6562\n",
      "Epoch 54/100\n",
      "2304/2304 [==============================] - 3s 1ms/step - loss: 0.8568 - accuracy: 0.6953 - val_loss: 0.8323 - val_accuracy: 0.6875\n",
      "Epoch 55/100\n",
      "2304/2304 [==============================] - 3s 1ms/step - loss: 0.7691 - accuracy: 0.7183 - val_loss: 0.7501 - val_accuracy: 0.7049\n",
      "Epoch 56/100\n",
      "2304/2304 [==============================] - 3s 1ms/step - loss: 0.6827 - accuracy: 0.7396 - val_loss: 0.7149 - val_accuracy: 0.7257\n"
     ]
    },
    {
     "name": "stdout",
     "output_type": "stream",
     "text": [
      "Epoch 57/100\n",
      "2304/2304 [==============================] - 3s 1ms/step - loss: 0.7178 - accuracy: 0.7292 - val_loss: 0.7194 - val_accuracy: 0.7396\n",
      "Epoch 58/100\n",
      "2304/2304 [==============================] - 3s 1ms/step - loss: 0.6964 - accuracy: 0.7418 - val_loss: 0.6767 - val_accuracy: 0.7326\n",
      "Epoch 59/100\n",
      "2304/2304 [==============================] - 3s 1ms/step - loss: 0.6327 - accuracy: 0.7578 - val_loss: 0.6831 - val_accuracy: 0.7674\n",
      "Epoch 60/100\n",
      "2304/2304 [==============================] - 3s 1ms/step - loss: 0.7257 - accuracy: 0.7335 - val_loss: 0.8149 - val_accuracy: 0.7222\n",
      "Epoch 61/100\n",
      "2304/2304 [==============================] - 3s 1ms/step - loss: 0.7054 - accuracy: 0.7444 - val_loss: 0.6955 - val_accuracy: 0.7431\n",
      "Epoch 62/100\n",
      "2304/2304 [==============================] - 3s 1ms/step - loss: 0.6881 - accuracy: 0.7665 - val_loss: 0.7230 - val_accuracy: 0.7326\n",
      "Epoch 63/100\n",
      "2304/2304 [==============================] - 3s 1ms/step - loss: 0.5915 - accuracy: 0.7873 - val_loss: 0.5293 - val_accuracy: 0.7986\n",
      "Epoch 64/100\n",
      "2304/2304 [==============================] - 3s 1ms/step - loss: 0.5297 - accuracy: 0.8060 - val_loss: 0.5174 - val_accuracy: 0.8056\n",
      "Epoch 65/100\n",
      "2304/2304 [==============================] - 3s 1ms/step - loss: 0.5773 - accuracy: 0.8060 - val_loss: 0.6493 - val_accuracy: 0.7431\n",
      "Epoch 66/100\n",
      "2304/2304 [==============================] - 3s 1ms/step - loss: 0.5237 - accuracy: 0.8129 - val_loss: 0.5370 - val_accuracy: 0.8090\n",
      "Epoch 67/100\n",
      "2304/2304 [==============================] - 3s 1ms/step - loss: 0.5270 - accuracy: 0.8142 - val_loss: 0.4518 - val_accuracy: 0.8542\n",
      "Epoch 68/100\n",
      "2304/2304 [==============================] - 3s 1ms/step - loss: 0.4990 - accuracy: 0.8394 - val_loss: 0.6003 - val_accuracy: 0.7743\n",
      "Epoch 69/100\n",
      "2304/2304 [==============================] - 3s 1ms/step - loss: 0.5191 - accuracy: 0.8186 - val_loss: 0.4660 - val_accuracy: 0.8403\n",
      "Epoch 70/100\n",
      "2304/2304 [==============================] - 3s 1ms/step - loss: 0.4972 - accuracy: 0.8207 - val_loss: 0.5036 - val_accuracy: 0.8542\n",
      "Epoch 71/100\n",
      "2304/2304 [==============================] - 3s 1ms/step - loss: 0.4825 - accuracy: 0.8329 - val_loss: 0.4016 - val_accuracy: 0.8611\n",
      "Epoch 72/100\n",
      "2304/2304 [==============================] - 3s 1ms/step - loss: 0.4447 - accuracy: 0.8433 - val_loss: 0.6175 - val_accuracy: 0.7847\n",
      "Epoch 73/100\n",
      "2304/2304 [==============================] - 3s 1ms/step - loss: 0.6909 - accuracy: 0.7782 - val_loss: 0.6307 - val_accuracy: 0.7778\n",
      "Epoch 74/100\n",
      "2304/2304 [==============================] - 3s 1ms/step - loss: 0.5139 - accuracy: 0.8273 - val_loss: 0.3833 - val_accuracy: 0.8542\n",
      "Epoch 75/100\n",
      "2304/2304 [==============================] - 3s 1ms/step - loss: 0.3706 - accuracy: 0.8724 - val_loss: 0.2896 - val_accuracy: 0.9028\n",
      "Epoch 76/100\n",
      "2304/2304 [==============================] - 3s 1ms/step - loss: 0.3223 - accuracy: 0.8854 - val_loss: 0.2908 - val_accuracy: 0.8924\n",
      "Epoch 77/100\n",
      "2304/2304 [==============================] - 3s 1ms/step - loss: 0.3196 - accuracy: 0.8902 - val_loss: 0.3049 - val_accuracy: 0.8819\n",
      "Epoch 78/100\n",
      "2304/2304 [==============================] - 3s 1ms/step - loss: 0.6144 - accuracy: 0.8108 - val_loss: 0.4733 - val_accuracy: 0.8368\n",
      "Epoch 79/100\n",
      "2304/2304 [==============================] - 3s 1ms/step - loss: 0.3758 - accuracy: 0.8707 - val_loss: 0.2926 - val_accuracy: 0.8819\n",
      "Epoch 80/100\n",
      "2304/2304 [==============================] - 3s 1ms/step - loss: 0.3089 - accuracy: 0.8980 - val_loss: 0.3075 - val_accuracy: 0.8958\n",
      "Epoch 81/100\n",
      "2304/2304 [==============================] - 3s 1ms/step - loss: 0.3806 - accuracy: 0.8741 - val_loss: 0.3206 - val_accuracy: 0.8854\n",
      "Epoch 82/100\n",
      "2304/2304 [==============================] - 3s 1ms/step - loss: 0.5436 - accuracy: 0.8364 - val_loss: 0.3915 - val_accuracy: 0.8750\n",
      "Epoch 83/100\n",
      "2304/2304 [==============================] - 3s 1ms/step - loss: 0.3657 - accuracy: 0.8737 - val_loss: 0.4135 - val_accuracy: 0.8611\n",
      "Epoch 84/100\n",
      "2304/2304 [==============================] - 3s 1ms/step - loss: 0.4498 - accuracy: 0.8602 - val_loss: 0.4231 - val_accuracy: 0.8646\n",
      "Epoch 85/100\n",
      "2304/2304 [==============================] - 3s 1ms/step - loss: 0.4040 - accuracy: 0.8759 - val_loss: 0.3185 - val_accuracy: 0.8889\n",
      "Epoch 86/100\n",
      "2304/2304 [==============================] - 3s 1ms/step - loss: 0.3591 - accuracy: 0.8958 - val_loss: 0.2922 - val_accuracy: 0.9028\n",
      "Epoch 87/100\n",
      "2304/2304 [==============================] - 3s 1ms/step - loss: 0.2723 - accuracy: 0.9097 - val_loss: 0.1736 - val_accuracy: 0.9306\n",
      "Epoch 88/100\n",
      "2304/2304 [==============================] - 3s 1ms/step - loss: 0.2054 - accuracy: 0.9310 - val_loss: 0.1480 - val_accuracy: 0.9583\n",
      "Epoch 89/100\n",
      "2304/2304 [==============================] - 3s 1ms/step - loss: 0.1935 - accuracy: 0.9353 - val_loss: 0.2930 - val_accuracy: 0.9201\n",
      "Epoch 90/100\n",
      "2304/2304 [==============================] - 3s 1ms/step - loss: 0.2189 - accuracy: 0.9262 - val_loss: 0.2015 - val_accuracy: 0.9271\n",
      "Epoch 91/100\n",
      "2304/2304 [==============================] - 3s 1ms/step - loss: 0.3350 - accuracy: 0.9015 - val_loss: 0.2877 - val_accuracy: 0.8958\n",
      "Epoch 92/100\n",
      "2304/2304 [==============================] - 3s 1ms/step - loss: 0.3362 - accuracy: 0.8906 - val_loss: 0.4267 - val_accuracy: 0.8611\n",
      "Epoch 93/100\n",
      "2304/2304 [==============================] - 3s 1ms/step - loss: 0.3035 - accuracy: 0.9054 - val_loss: 0.1831 - val_accuracy: 0.9479\n",
      "Epoch 94/100\n",
      "2304/2304 [==============================] - 3s 1ms/step - loss: 0.2069 - accuracy: 0.9319 - val_loss: 0.1724 - val_accuracy: 0.9549\n",
      "Epoch 95/100\n",
      "2304/2304 [==============================] - 3s 1ms/step - loss: 0.2162 - accuracy: 0.9358 - val_loss: 0.1491 - val_accuracy: 0.9618\n",
      "Epoch 96/100\n",
      "2304/2304 [==============================] - 3s 1ms/step - loss: 0.1593 - accuracy: 0.9457 - val_loss: 0.0727 - val_accuracy: 0.9896\n",
      "Epoch 97/100\n",
      "2304/2304 [==============================] - 3s 1ms/step - loss: 0.1672 - accuracy: 0.9501 - val_loss: 0.1499 - val_accuracy: 0.9583\n",
      "Epoch 98/100\n",
      "2304/2304 [==============================] - 3s 1ms/step - loss: 0.3235 - accuracy: 0.9023 - val_loss: 0.2049 - val_accuracy: 0.9201\n",
      "Epoch 99/100\n",
      "2304/2304 [==============================] - 3s 1ms/step - loss: 0.3976 - accuracy: 0.8928 - val_loss: 0.1714 - val_accuracy: 0.9444\n",
      "Epoch 100/100\n",
      "2304/2304 [==============================] - 3s 1ms/step - loss: 0.2335 - accuracy: 0.9288 - val_loss: 0.0995 - val_accuracy: 0.9688\n"
     ]
    }
   ],
   "source": [
    "### train using LSTM model\n",
    "model_A = create_model_LSTM()\n",
    "history = model_A.fit(np.expand_dims(ravdess_speech_data_array[:training_samples],-1), labels_categorical[:training_samples], validation_data=(np.expand_dims(ravdess_speech_data_array[training_samples:training_samples+validation_samples], -1), labels_categorical[training_samples:training_samples+validation_samples]), epochs=100, shuffle=True)"
   ]
  },
  {
   "cell_type": "code",
   "execution_count": 12,
   "metadata": {},
   "outputs": [
    {
     "data": {
      "image/png": "[encoded data removed]",
      "text/plain": [
       "<Figure size 432x288 with 1 Axes>"
      ]
     },
     "metadata": {
      "needs_background": "light"
     },
     "output_type": "display_data"
    }
   ],
   "source": [
    "### loss plots using LSTM model\n",
    "loss = history.history['loss']\n",
    "val_loss = history.history['val_loss']\n",
    "\n",
    "epochs = range(1, len(loss) + 1)\n",
    "\n",
    "plt.plot(epochs, loss, 'ro', label='Training loss')\n",
    "plt.plot(epochs, val_loss, 'b', label='Validation loss')\n",
    "plt.title('Training and validation loss')\n",
    "plt.xlabel('Epochs')\n",
    "plt.ylabel('Loss')\n",
    "plt.legend()\n",
    "\n",
    "plt.show()"
   ]
  },
  {
   "cell_type": "code",
   "execution_count": 13,
   "metadata": {},
   "outputs": [
    {
     "data": {
      "image/png": "[encoded data removed]",
      "text/plain": [
       "<Figure size 432x288 with 1 Axes>"
      ]
     },
     "metadata": {
      "needs_background": "light"
     },
     "output_type": "display_data"
    }
   ],
   "source": [
    "### accuracy plots using LSTM model\n",
    "plt.clf()                                                \n",
    "\n",
    "acc = history.history['accuracy']\n",
    "val_acc = history.history['val_accuracy']\n",
    "\n",
    "plt.plot(epochs, acc, 'ro', label='Training acc')\n",
    "plt.plot(epochs, val_acc, 'b', label='Validation acc')\n",
    "plt.title('Training and validation accuracy')\n",
    "plt.xlabel('Epochs')\n",
    "plt.ylabel('Loss')\n",
    "plt.legend()\n",
    "\n",
    "plt.show()"
   ]
  },
  {
   "cell_type": "markdown",
   "metadata": {},
   "source": [
    "*  **(evaluate function): Returns the loss value & metrics values for the model in test mode.**"
   ]
  },
  {
   "cell_type": "code",
   "execution_count": 14,
   "metadata": {},
   "outputs": [
    {
     "name": "stdout",
     "output_type": "stream",
     "text": [
      "288/288 [==============================] - 0s 324us/step\n"
     ]
    },
    {
     "data": {
      "text/plain": [
       "[0.13654450037413174, 0.9548611044883728]"
      ]
     },
     "execution_count": 14,
     "metadata": {},
     "output_type": "execute_result"
    }
   ],
   "source": [
    "### evaluate using model A\n",
    "model_A.evaluate(np.expand_dims(ravdess_speech_data_array[training_samples + validation_samples:], -1), labels_categorical[training_samples + validation_samples:])"
   ]
  },
  {
   "cell_type": "markdown",
   "metadata": {},
   "source": [
    "* **  Save the weights of the model as a HDF5 file **"
   ]
  },
  {
   "cell_type": "code",
   "execution_count": 15,
   "metadata": {},
   "outputs": [],
   "source": [
    "model_A.save_weights(\"Model_LSTM.h5\")"
   ]
  },
  {
   "cell_type": "code",
   "execution_count": 35,
   "metadata": {},
   "outputs": [],
   "source": [
    "path_ = '../input/ravdess-emotional-speech-audio/Actor_01/03-01-01-01-01-02-01.wav'"
   ]
  },
  {
   "cell_type": "code",
   "execution_count": 36,
   "metadata": {},
   "outputs": [],
   "source": [
    "import IPython.display as ipd\n",
    "#ipd.Audio(path_)"
   ]
  },
  {
   "cell_type": "code",
   "execution_count": 37,
   "metadata": {},
   "outputs": [],
   "source": [
    "a = extract_mfcc(path_)"
   ]
  },
  {
   "cell_type": "code",
   "execution_count": 38,
   "metadata": {},
   "outputs": [
    {
     "data": {
      "text/plain": [
       "(40,)"
      ]
     },
     "execution_count": 38,
     "metadata": {},
     "output_type": "execute_result"
    }
   ],
   "source": [
    "a.shape"
   ]
  },
  {
   "cell_type": "code",
   "execution_count": 39,
   "metadata": {},
   "outputs": [],
   "source": [
    "a1 = np.asarray(a)"
   ]
  },
  {
   "cell_type": "code",
   "execution_count": 40,
   "metadata": {},
   "outputs": [
    {
     "data": {
      "text/plain": [
       "(40,)"
      ]
     },
     "execution_count": 40,
     "metadata": {},
     "output_type": "execute_result"
    }
   ],
   "source": [
    "a1.shape"
   ]
  },
  {
   "cell_type": "code",
   "execution_count": 41,
   "metadata": {},
   "outputs": [],
   "source": [
    "q = np.expand_dims(a1,-1)"
   ]
  },
  {
   "cell_type": "code",
   "execution_count": 42,
   "metadata": {},
   "outputs": [],
   "source": [
    "qq = np.expand_dims(q,0)"
   ]
  },
  {
   "cell_type": "code",
   "execution_count": 43,
   "metadata": {},
   "outputs": [
    {
     "data": {
      "text/plain": [
       "(1, 40, 1)"
      ]
     },
     "execution_count": 43,
     "metadata": {},
     "output_type": "execute_result"
    }
   ],
   "source": [
    "qq.shape"
   ]
  },
  {
   "cell_type": "code",
   "execution_count": 44,
   "metadata": {},
   "outputs": [],
   "source": [
    "pred = model_A.predict(qq)"
   ]
  },
  {
   "cell_type": "code",
   "execution_count": 45,
   "metadata": {},
   "outputs": [
    {
     "data": {
      "text/plain": [
       "array([[3.7957832e-01, 6.2034619e-01, 2.8696613e-11, 7.7807899e-06,\n",
       "        8.2999797e-08, 4.7889338e-05, 1.9792991e-05, 1.3631976e-09]],\n",
       "      dtype=float32)"
      ]
     },
     "execution_count": 45,
     "metadata": {},
     "output_type": "execute_result"
    }
   ],
   "source": [
    "pred"
   ]
  },
  {
   "cell_type": "code",
   "execution_count": 46,
   "metadata": {},
   "outputs": [
    {
     "data": {
      "text/plain": [
       "array([1])"
      ]
     },
     "execution_count": 46,
     "metadata": {},
     "output_type": "execute_result"
    }
   ],
   "source": [
    "preds=pred.argmax(axis=1)\n",
    "preds"
   ]
  },
  {
   "cell_type": "code",
   "execution_count": null,
   "metadata": {},
   "outputs": [],
   "source": [
    "00 = neutral, 01 = calm, 02 = happy, 03 = sad, 04 = angry, 05 = fearful, 06 = disgust, 07 = surprised"
   ]
  },
  {
   "cell_type": "code",
   "execution_count": null,
   "metadata": {},
   "outputs": [],
   "source": []
  }
 ],
 "metadata": {
  "kernelspec": {
   "display_name": "Python 3",
   "language": "python",
   "name": "python3"
  },
  "language_info": {
   "codemirror_mode": {
    "name": "ipython",
    "version": 3
   },
   "file_extension": ".py",
   "mimetype": "text/x-python",
   "name": "python",
   "nbconvert_exporter": "python",
   "pygments_lexer": "ipython3",
   "version": "3.7.6"
  }
 },
 "nbformat": 4,
 "nbformat_minor": 4
}
